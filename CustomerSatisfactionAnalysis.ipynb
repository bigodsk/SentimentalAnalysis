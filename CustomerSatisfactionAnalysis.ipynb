{
 "cells": [
  {
   "cell_type": "markdown",
   "id": "925786b8",
   "metadata": {},
   "source": [
    "# Export to .py file"
   ]
  },
  {
   "cell_type": "code",
   "execution_count": 4,
   "id": "fcf48b1f",
   "metadata": {},
   "outputs": [],
   "source": [
    "# to predict fellings\n",
    "import streamlit as st     \n",
    "\n",
    "# NLTL - Natural Language Toolkit\n",
    "import nltk\n",
    "from nltk.sentiment.vader import SentimentIntensityAnalyzer\n",
    "\n",
    "# system title\n",
    "st.write('Customer Satisfaction Analysis')\n",
    "\n",
    "# input - customer comment\n",
    "user_input = st.text_input('Please, rate our services: ')\n",
    "\n",
    "# predict creation\n",
    "nltk.download('vader_lexicon')\n",
    "satisfaction = SentimentIntensityAnalyzer()\n",
    "score = polarity_scores(user_input) # this var predict the user sentimental\n",
    "\n",
    "if score == 0:\n",
    "    st.write('')\n",
    "elif score['neg'] != 0:\n",
    "    st.write('#negative rate')\n",
    "elif score['pos'] != 0:\n",
    "    st.write('#positive rate')\n"
   ]
  }
 ],
 "metadata": {
  "kernelspec": {
   "display_name": "Python 3 (ipykernel)",
   "language": "python",
   "name": "python3"
  },
  "language_info": {
   "codemirror_mode": {
    "name": "ipython",
    "version": 3
   },
   "file_extension": ".py",
   "mimetype": "text/x-python",
   "name": "python",
   "nbconvert_exporter": "python",
   "pygments_lexer": "ipython3",
   "version": "3.10.5"
  }
 },
 "nbformat": 4,
 "nbformat_minor": 5
}
